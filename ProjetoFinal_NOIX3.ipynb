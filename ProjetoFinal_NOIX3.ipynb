{
  "nbformat": 4,
  "nbformat_minor": 0,
  "metadata": {
    "colab": {
      "name": "ProjetoFinal_NOIX3.ipynb",
      "provenance": [],
      "collapsed_sections": []
    },
    "kernelspec": {
      "name": "python3",
      "display_name": "Python 3"
    }
  },
  "cells": [
    {
      "cell_type": "markdown",
      "metadata": {
        "id": "Au0S0kJsXCjS",
        "colab_type": "text"
      },
      "source": [
        "# **Projeto Final**\n",
        "\n",
        "## **Extração de características**\n",
        "\n",
        "### **Alunos:**\n",
        "\n",
        " - Kariston Stevan Luiz\n",
        " - Anderson Salata\n",
        " - Edson Alves"
      ]
    },
    {
      "cell_type": "markdown",
      "metadata": {
        "id": "VGavGplxis36",
        "colab_type": "text"
      },
      "source": [
        "## **Dataset**\n",
        "\n",
        "**Identificação de sequências SARS-CoV-2 de outros vírus**\n",
        "\n",
        "Aqui, realizamos um teste experimental, mas agora classificando a SARS-CoV-2 de outros vírus (por exemplo, HIV, gripe, hepatite, ebolavírus, SARS, etc). Assim, obtemos um conjunto de dados final com **22.442** e **2.373** sequências de outros vírus e SARS-CoV-2, respectivamente.\n"
      ]
    },
    {
      "cell_type": "markdown",
      "metadata": {
        "id": "9Uo9j72WY_tJ",
        "colab_type": "text"
      },
      "source": [
        "## **Trabalho**\n",
        "\n",
        "Use o dataset **other_viruses_covid.csv** para construir um modelo de classificação de sequências de COVID-19 com modelos ensemble, avaliação por curva ROC e etc.\n",
        "\n",
        "**Use Holdout para validar o modelo.**\n",
        "\n",
        "1 - Decida que padronização dos dados usará (ou nenhuma). Justifique.\n",
        "\n",
        "2 - Aplique uma técnica para dados desbalanceados (ver aquivo **Imbalanced data sets**).\n",
        "\n",
        "3 - Aplique alguma técnica de Redução de Dimensionalidade.\n",
        "\n",
        "4 - Utilize pelo menos 5 classificadores (linear, não linear, ensembles, clássicos).\n",
        "\n",
        "5 - Apresente 4 métricas de performance\n",
        "\n",
        "6 - Reporte a curva ROC cada algoritmo.\n",
        "\n",
        "7 - Finalmente, discorra rapidamente sobre os experimentos e resultados (qual o melhor classificador, ...).\n",
        "\n",
        "**Caso ainda tenha dúvida de como montar um modelo de classificação, procure o no conteúdo complementar da disciplina.**"
      ]
    },
    {
      "cell_type": "markdown",
      "metadata": {
        "id": "pdSM0Lp2IVAA",
        "colab_type": "text"
      },
      "source": [
        "## **Importando as Bibliotecas**"
      ]
    },
    {
      "cell_type": "code",
      "metadata": {
        "id": "nBPKH_qPIW_W",
        "colab_type": "code",
        "colab": {}
      },
      "source": [
        "import matplotlib.pyplot as plt\n",
        "import pandas as pd\n",
        "import numpy as np\n",
        "from itertools import cycle\n",
        "from sklearn.model_selection import train_test_split\n",
        "from google.colab import files\n",
        "import warnings\n",
        "warnings.filterwarnings(\"ignore\")\n",
        "from sklearn.datasets import load_breast_cancer"
      ],
      "execution_count": 3,
      "outputs": []
    },
    {
      "cell_type": "markdown",
      "metadata": {
        "id": "CHIIKLaYb1X_",
        "colab_type": "text"
      },
      "source": [
        "## **Carregando dataset**"
      ]
    },
    {
      "cell_type": "code",
      "metadata": {
        "id": "GpAfuIQpWHkg",
        "colab_type": "code",
        "colab": {
          "base_uri": "https://localhost:8080/",
          "height": 609
        },
        "outputId": "3a7e0905-dae2-405f-cc55-4c3f8a469abc"
      },
      "source": [
        "df1=pd.read_csv(\"/content/SARS-COV-2.csv\")\n",
        "df2=pd.read_csv(\"/content/other_viruses.csv\")\n",
        "\n",
        "df1\n",
        "df2"
      ],
      "execution_count": 22,
      "outputs": [
        {
          "output_type": "execute_result",
          "data": {
            "text/html": [
              "<div>\n",
              "<style scoped>\n",
              "    .dataframe tbody tr th:only-of-type {\n",
              "        vertical-align: middle;\n",
              "    }\n",
              "\n",
              "    .dataframe tbody tr th {\n",
              "        vertical-align: top;\n",
              "    }\n",
              "\n",
              "    .dataframe thead th {\n",
              "        text-align: right;\n",
              "    }\n",
              "</style>\n",
              "<table border=\"1\" class=\"dataframe\">\n",
              "  <thead>\n",
              "    <tr style=\"text-align: right;\">\n",
              "      <th></th>\n",
              "      <th>nameseq</th>\n",
              "      <th>average</th>\n",
              "      <th>median</th>\n",
              "      <th>maximum</th>\n",
              "      <th>minimum</th>\n",
              "      <th>peak</th>\n",
              "      <th>none_levated_peak</th>\n",
              "      <th>sample_standard_deviation</th>\n",
              "      <th>population_standard_deviation</th>\n",
              "      <th>percentile15</th>\n",
              "      <th>percentile25</th>\n",
              "      <th>percentile50</th>\n",
              "      <th>percentile75</th>\n",
              "      <th>amplitude</th>\n",
              "      <th>variance</th>\n",
              "      <th>interquartile_range</th>\n",
              "      <th>semi_interquartile_range</th>\n",
              "      <th>coefficient_of_variation</th>\n",
              "      <th>skewness</th>\n",
              "      <th>kurtosis</th>\n",
              "      <th>label</th>\n",
              "    </tr>\n",
              "  </thead>\n",
              "  <tbody>\n",
              "    <tr>\n",
              "      <th>0</th>\n",
              "      <td>KM403634.1</td>\n",
              "      <td>1.162229e+10</td>\n",
              "      <td>1.794215e+06</td>\n",
              "      <td>8.975852e+13</td>\n",
              "      <td>5.948627e+05</td>\n",
              "      <td>3.072831e-07</td>\n",
              "      <td>0.351056</td>\n",
              "      <td>8.790711e+11</td>\n",
              "      <td>8.791122e+11</td>\n",
              "      <td>9.628583e+05</td>\n",
              "      <td>1.060685e+06</td>\n",
              "      <td>1.794215e+06</td>\n",
              "      <td>6.067291e+06</td>\n",
              "      <td>8.975852e+13</td>\n",
              "      <td>7.728382e+23</td>\n",
              "      <td>5.006607e+06</td>\n",
              "      <td>2.503303e+06</td>\n",
              "      <td>75.636665</td>\n",
              "      <td>0.039657</td>\n",
              "      <td>0.071372</td>\n",
              "      <td>0</td>\n",
              "    </tr>\n",
              "    <tr>\n",
              "      <th>1</th>\n",
              "      <td>KJ672616.1</td>\n",
              "      <td>1.378855e+11</td>\n",
              "      <td>1.381194e+07</td>\n",
              "      <td>1.554990e+15</td>\n",
              "      <td>6.256875e+06</td>\n",
              "      <td>3.707183e-08</td>\n",
              "      <td>0.171302</td>\n",
              "      <td>1.272177e+13</td>\n",
              "      <td>1.272219e+13</td>\n",
              "      <td>7.354419e+06</td>\n",
              "      <td>8.109142e+06</td>\n",
              "      <td>1.381194e+07</td>\n",
              "      <td>4.739088e+07</td>\n",
              "      <td>1.554990e+15</td>\n",
              "      <td>1.618540e+26</td>\n",
              "      <td>3.928174e+07</td>\n",
              "      <td>1.964087e+07</td>\n",
              "      <td>92.263337</td>\n",
              "      <td>0.032512</td>\n",
              "      <td>0.070595</td>\n",
              "      <td>0</td>\n",
              "    </tr>\n",
              "    <tr>\n",
              "      <th>2</th>\n",
              "      <td>MT190900.1</td>\n",
              "      <td>2.152877e+10</td>\n",
              "      <td>2.950305e+06</td>\n",
              "      <td>1.464793e+14</td>\n",
              "      <td>1.241002e+06</td>\n",
              "      <td>1.397355e-07</td>\n",
              "      <td>0.214417</td>\n",
              "      <td>1.559620e+12</td>\n",
              "      <td>1.559706e+12</td>\n",
              "      <td>1.561668e+06</td>\n",
              "      <td>1.718361e+06</td>\n",
              "      <td>2.950305e+06</td>\n",
              "      <td>9.976010e+06</td>\n",
              "      <td>1.464793e+14</td>\n",
              "      <td>2.432683e+24</td>\n",
              "      <td>8.257649e+06</td>\n",
              "      <td>4.128824e+06</td>\n",
              "      <td>72.443512</td>\n",
              "      <td>0.041406</td>\n",
              "      <td>0.070830</td>\n",
              "      <td>0</td>\n",
              "    </tr>\n",
              "    <tr>\n",
              "      <th>3</th>\n",
              "      <td>MK850457.1</td>\n",
              "      <td>2.106247e+10</td>\n",
              "      <td>3.098383e+06</td>\n",
              "      <td>1.412120e+14</td>\n",
              "      <td>1.292456e+06</td>\n",
              "      <td>1.418162e-07</td>\n",
              "      <td>0.209332</td>\n",
              "      <td>1.509815e+12</td>\n",
              "      <td>1.509900e+12</td>\n",
              "      <td>1.651399e+06</td>\n",
              "      <td>1.816420e+06</td>\n",
              "      <td>3.098383e+06</td>\n",
              "      <td>1.045842e+07</td>\n",
              "      <td>1.412120e+14</td>\n",
              "      <td>2.279797e+24</td>\n",
              "      <td>8.642005e+06</td>\n",
              "      <td>4.321003e+06</td>\n",
              "      <td>71.682744</td>\n",
              "      <td>0.041845</td>\n",
              "      <td>0.069899</td>\n",
              "      <td>0</td>\n",
              "    </tr>\n",
              "    <tr>\n",
              "      <th>4</th>\n",
              "      <td>KT991433.1</td>\n",
              "      <td>1.780693e+08</td>\n",
              "      <td>5.749116e+04</td>\n",
              "      <td>4.394072e+11</td>\n",
              "      <td>1.147890e+04</td>\n",
              "      <td>6.014512e-06</td>\n",
              "      <td>0.707181</td>\n",
              "      <td>7.819467e+09</td>\n",
              "      <td>7.820684e+09</td>\n",
              "      <td>3.047195e+04</td>\n",
              "      <td>3.511991e+04</td>\n",
              "      <td>5.749116e+04</td>\n",
              "      <td>2.017980e+05</td>\n",
              "      <td>4.394072e+11</td>\n",
              "      <td>6.116309e+19</td>\n",
              "      <td>1.666781e+05</td>\n",
              "      <td>8.333906e+04</td>\n",
              "      <td>43.912490</td>\n",
              "      <td>0.068296</td>\n",
              "      <td>0.073135</td>\n",
              "      <td>0</td>\n",
              "    </tr>\n",
              "    <tr>\n",
              "      <th>...</th>\n",
              "      <td>...</td>\n",
              "      <td>...</td>\n",
              "      <td>...</td>\n",
              "      <td>...</td>\n",
              "      <td>...</td>\n",
              "      <td>...</td>\n",
              "      <td>...</td>\n",
              "      <td>...</td>\n",
              "      <td>...</td>\n",
              "      <td>...</td>\n",
              "      <td>...</td>\n",
              "      <td>...</td>\n",
              "      <td>...</td>\n",
              "      <td>...</td>\n",
              "      <td>...</td>\n",
              "      <td>...</td>\n",
              "      <td>...</td>\n",
              "      <td>...</td>\n",
              "      <td>...</td>\n",
              "      <td>...</td>\n",
              "      <td>...</td>\n",
              "    </tr>\n",
              "    <tr>\n",
              "      <th>1995</th>\n",
              "      <td>MK033771.1</td>\n",
              "      <td>2.974035e+10</td>\n",
              "      <td>3.247982e+06</td>\n",
              "      <td>3.105287e+14</td>\n",
              "      <td>1.304681e+06</td>\n",
              "      <td>1.713161e-07</td>\n",
              "      <td>0.385448</td>\n",
              "      <td>2.571010e+12</td>\n",
              "      <td>2.571094e+12</td>\n",
              "      <td>1.740997e+06</td>\n",
              "      <td>1.915248e+06</td>\n",
              "      <td>3.247982e+06</td>\n",
              "      <td>1.112146e+07</td>\n",
              "      <td>3.105287e+14</td>\n",
              "      <td>6.610526e+24</td>\n",
              "      <td>9.206207e+06</td>\n",
              "      <td>4.603103e+06</td>\n",
              "      <td>86.448567</td>\n",
              "      <td>0.034699</td>\n",
              "      <td>0.071653</td>\n",
              "      <td>0</td>\n",
              "    </tr>\n",
              "    <tr>\n",
              "      <th>1996</th>\n",
              "      <td>MK658832.1</td>\n",
              "      <td>7.383089e+08</td>\n",
              "      <td>2.020925e+05</td>\n",
              "      <td>3.682454e+12</td>\n",
              "      <td>5.144689e+04</td>\n",
              "      <td>3.359028e-06</td>\n",
              "      <td>0.767230</td>\n",
              "      <td>4.373988e+10</td>\n",
              "      <td>4.374282e+10</td>\n",
              "      <td>1.055342e+05</td>\n",
              "      <td>1.218159e+05</td>\n",
              "      <td>2.020925e+05</td>\n",
              "      <td>6.953082e+05</td>\n",
              "      <td>3.682454e+12</td>\n",
              "      <td>1.913434e+21</td>\n",
              "      <td>5.734923e+05</td>\n",
              "      <td>2.867462e+05</td>\n",
              "      <td>59.243339</td>\n",
              "      <td>0.050625</td>\n",
              "      <td>0.069661</td>\n",
              "      <td>0</td>\n",
              "    </tr>\n",
              "    <tr>\n",
              "      <th>1997</th>\n",
              "      <td>KJ170486.1</td>\n",
              "      <td>1.180282e+09</td>\n",
              "      <td>3.466039e+05</td>\n",
              "      <td>4.769887e+12</td>\n",
              "      <td>8.589220e+04</td>\n",
              "      <td>2.086507e-06</td>\n",
              "      <td>0.520852</td>\n",
              "      <td>5.971864e+10</td>\n",
              "      <td>5.972268e+10</td>\n",
              "      <td>1.844212e+05</td>\n",
              "      <td>2.088759e+05</td>\n",
              "      <td>3.466039e+05</td>\n",
              "      <td>1.186185e+06</td>\n",
              "      <td>4.769887e+12</td>\n",
              "      <td>3.566799e+21</td>\n",
              "      <td>9.773095e+05</td>\n",
              "      <td>4.886547e+05</td>\n",
              "      <td>50.596918</td>\n",
              "      <td>0.059275</td>\n",
              "      <td>0.069724</td>\n",
              "      <td>0</td>\n",
              "    </tr>\n",
              "    <tr>\n",
              "      <th>1998</th>\n",
              "      <td>MN829875.1</td>\n",
              "      <td>1.221524e+10</td>\n",
              "      <td>2.212440e+06</td>\n",
              "      <td>7.284888e+13</td>\n",
              "      <td>9.165548e+05</td>\n",
              "      <td>2.150046e-07</td>\n",
              "      <td>0.290119</td>\n",
              "      <td>8.289242e+11</td>\n",
              "      <td>8.289768e+11</td>\n",
              "      <td>1.184899e+06</td>\n",
              "      <td>1.306747e+06</td>\n",
              "      <td>2.212440e+06</td>\n",
              "      <td>7.647498e+06</td>\n",
              "      <td>7.284888e+13</td>\n",
              "      <td>6.872025e+23</td>\n",
              "      <td>6.340751e+06</td>\n",
              "      <td>3.170375e+06</td>\n",
              "      <td>67.859831</td>\n",
              "      <td>0.044201</td>\n",
              "      <td>0.070792</td>\n",
              "      <td>0</td>\n",
              "    </tr>\n",
              "    <tr>\n",
              "      <th>1999</th>\n",
              "      <td>MN090207.1</td>\n",
              "      <td>2.316117e+10</td>\n",
              "      <td>3.184173e+06</td>\n",
              "      <td>1.559046e+14</td>\n",
              "      <td>1.377095e+06</td>\n",
              "      <td>1.294696e-07</td>\n",
              "      <td>0.202337</td>\n",
              "      <td>1.664446e+12</td>\n",
              "      <td>1.664539e+12</td>\n",
              "      <td>1.716578e+06</td>\n",
              "      <td>1.887469e+06</td>\n",
              "      <td>3.184173e+06</td>\n",
              "      <td>1.103272e+07</td>\n",
              "      <td>1.559046e+14</td>\n",
              "      <td>2.770690e+24</td>\n",
              "      <td>9.145254e+06</td>\n",
              "      <td>4.572627e+06</td>\n",
              "      <td>71.863647</td>\n",
              "      <td>0.041740</td>\n",
              "      <td>0.071339</td>\n",
              "      <td>0</td>\n",
              "    </tr>\n",
              "  </tbody>\n",
              "</table>\n",
              "<p>2000 rows × 21 columns</p>\n",
              "</div>"
            ],
            "text/plain": [
              "         nameseq       average        median  ...  skewness  kurtosis  label\n",
              "0     KM403634.1  1.162229e+10  1.794215e+06  ...  0.039657  0.071372      0\n",
              "1     KJ672616.1  1.378855e+11  1.381194e+07  ...  0.032512  0.070595      0\n",
              "2     MT190900.1  2.152877e+10  2.950305e+06  ...  0.041406  0.070830      0\n",
              "3     MK850457.1  2.106247e+10  3.098383e+06  ...  0.041845  0.069899      0\n",
              "4     KT991433.1  1.780693e+08  5.749116e+04  ...  0.068296  0.073135      0\n",
              "...          ...           ...           ...  ...       ...       ...    ...\n",
              "1995  MK033771.1  2.974035e+10  3.247982e+06  ...  0.034699  0.071653      0\n",
              "1996  MK658832.1  7.383089e+08  2.020925e+05  ...  0.050625  0.069661      0\n",
              "1997  KJ170486.1  1.180282e+09  3.466039e+05  ...  0.059275  0.069724      0\n",
              "1998  MN829875.1  1.221524e+10  2.212440e+06  ...  0.044201  0.070792      0\n",
              "1999  MN090207.1  2.316117e+10  3.184173e+06  ...  0.041740  0.071339      0\n",
              "\n",
              "[2000 rows x 21 columns]"
            ]
          },
          "metadata": {
            "tags": []
          },
          "execution_count": 22
        }
      ]
    },
    {
      "cell_type": "code",
      "metadata": {
        "id": "GpgGWUStivBZ",
        "colab_type": "code",
        "colab": {}
      },
      "source": [
        ""
      ],
      "execution_count": null,
      "outputs": []
    },
    {
      "cell_type": "markdown",
      "metadata": {
        "colab_type": "text",
        "id": "jvDNE3wVi2Zx"
      },
      "source": [
        "## **Concatenando os datasets**"
      ]
    },
    {
      "cell_type": "code",
      "metadata": {
        "id": "tYlgcST-jFZw",
        "colab_type": "code",
        "colab": {
          "base_uri": "https://localhost:8080/",
          "height": 609
        },
        "outputId": "6f8725bb-e08e-4602-eeb4-403134126007"
      },
      "source": [
        "df=pd.concat([df1,df2])\n",
        "df"
      ],
      "execution_count": 23,
      "outputs": [
        {
          "output_type": "execute_result",
          "data": {
            "text/html": [
              "<div>\n",
              "<style scoped>\n",
              "    .dataframe tbody tr th:only-of-type {\n",
              "        vertical-align: middle;\n",
              "    }\n",
              "\n",
              "    .dataframe tbody tr th {\n",
              "        vertical-align: top;\n",
              "    }\n",
              "\n",
              "    .dataframe thead th {\n",
              "        text-align: right;\n",
              "    }\n",
              "</style>\n",
              "<table border=\"1\" class=\"dataframe\">\n",
              "  <thead>\n",
              "    <tr style=\"text-align: right;\">\n",
              "      <th></th>\n",
              "      <th>nameseq</th>\n",
              "      <th>average</th>\n",
              "      <th>median</th>\n",
              "      <th>maximum</th>\n",
              "      <th>minimum</th>\n",
              "      <th>peak</th>\n",
              "      <th>none_levated_peak</th>\n",
              "      <th>sample_standard_deviation</th>\n",
              "      <th>population_standard_deviation</th>\n",
              "      <th>percentile15</th>\n",
              "      <th>percentile25</th>\n",
              "      <th>percentile50</th>\n",
              "      <th>percentile75</th>\n",
              "      <th>amplitude</th>\n",
              "      <th>variance</th>\n",
              "      <th>interquartile_range</th>\n",
              "      <th>semi_interquartile_range</th>\n",
              "      <th>coefficient_of_variation</th>\n",
              "      <th>skewness</th>\n",
              "      <th>kurtosis</th>\n",
              "      <th>label</th>\n",
              "    </tr>\n",
              "  </thead>\n",
              "  <tbody>\n",
              "    <tr>\n",
              "      <th>0</th>\n",
              "      <td>NC_045512.2</td>\n",
              "      <td>5.579451e+11</td>\n",
              "      <td>2.648017e+07</td>\n",
              "      <td>1.220395e+16</td>\n",
              "      <td>1.191188e+07</td>\n",
              "      <td>1.786496e-08</td>\n",
              "      <td>0.299224</td>\n",
              "      <td>7.154604e+13</td>\n",
              "      <td>7.154724e+13</td>\n",
              "      <td>1.407346e+07</td>\n",
              "      <td>1.548790e+07</td>\n",
              "      <td>2.648017e+07</td>\n",
              "      <td>9.028400e+07</td>\n",
              "      <td>1.220395e+16</td>\n",
              "      <td>5.119007e+27</td>\n",
              "      <td>7.479610e+07</td>\n",
              "      <td>3.739805e+07</td>\n",
              "      <td>128.231324</td>\n",
              "      <td>0.023394</td>\n",
              "      <td>0.070657</td>\n",
              "      <td>1</td>\n",
              "    </tr>\n",
              "    <tr>\n",
              "      <th>1</th>\n",
              "      <td>MT483553.1</td>\n",
              "      <td>5.543411e+11</td>\n",
              "      <td>2.615915e+07</td>\n",
              "      <td>1.208747e+16</td>\n",
              "      <td>1.172602e+07</td>\n",
              "      <td>1.791917e-08</td>\n",
              "      <td>0.297939</td>\n",
              "      <td>7.098157e+13</td>\n",
              "      <td>7.098276e+13</td>\n",
              "      <td>1.394449e+07</td>\n",
              "      <td>1.533959e+07</td>\n",
              "      <td>2.615915e+07</td>\n",
              "      <td>8.984881e+07</td>\n",
              "      <td>1.208747e+16</td>\n",
              "      <td>5.038552e+27</td>\n",
              "      <td>7.450922e+07</td>\n",
              "      <td>3.725461e+07</td>\n",
              "      <td>128.046734</td>\n",
              "      <td>0.023428</td>\n",
              "      <td>0.070937</td>\n",
              "      <td>1</td>\n",
              "    </tr>\n",
              "    <tr>\n",
              "      <th>2</th>\n",
              "      <td>MT483554.1</td>\n",
              "      <td>5.550479e+11</td>\n",
              "      <td>2.623601e+07</td>\n",
              "      <td>1.209842e+16</td>\n",
              "      <td>1.175014e+07</td>\n",
              "      <td>1.789635e-08</td>\n",
              "      <td>0.297443</td>\n",
              "      <td>7.104835e+13</td>\n",
              "      <td>7.104954e+13</td>\n",
              "      <td>1.397991e+07</td>\n",
              "      <td>1.537933e+07</td>\n",
              "      <td>2.623601e+07</td>\n",
              "      <td>8.996633e+07</td>\n",
              "      <td>1.209842e+16</td>\n",
              "      <td>5.048037e+27</td>\n",
              "      <td>7.458700e+07</td>\n",
              "      <td>3.729350e+07</td>\n",
              "      <td>128.004004</td>\n",
              "      <td>0.023436</td>\n",
              "      <td>0.070986</td>\n",
              "      <td>1</td>\n",
              "    </tr>\n",
              "    <tr>\n",
              "      <th>3</th>\n",
              "      <td>MT483555.1</td>\n",
              "      <td>5.514714e+11</td>\n",
              "      <td>2.599594e+07</td>\n",
              "      <td>1.200343e+16</td>\n",
              "      <td>1.174705e+07</td>\n",
              "      <td>1.798643e-08</td>\n",
              "      <td>0.297646</td>\n",
              "      <td>7.053957e+13</td>\n",
              "      <td>7.054075e+13</td>\n",
              "      <td>1.387876e+07</td>\n",
              "      <td>1.528127e+07</td>\n",
              "      <td>2.599594e+07</td>\n",
              "      <td>8.869318e+07</td>\n",
              "      <td>1.200343e+16</td>\n",
              "      <td>4.975998e+27</td>\n",
              "      <td>7.341191e+07</td>\n",
              "      <td>3.670596e+07</td>\n",
              "      <td>127.911554</td>\n",
              "      <td>0.023453</td>\n",
              "      <td>0.070527</td>\n",
              "      <td>1</td>\n",
              "    </tr>\n",
              "    <tr>\n",
              "      <th>4</th>\n",
              "      <td>MT483556.1</td>\n",
              "      <td>5.554361e+11</td>\n",
              "      <td>2.625292e+07</td>\n",
              "      <td>1.210662e+16</td>\n",
              "      <td>1.176036e+07</td>\n",
              "      <td>1.788385e-08</td>\n",
              "      <td>0.297301</td>\n",
              "      <td>7.109687e+13</td>\n",
              "      <td>7.109806e+13</td>\n",
              "      <td>1.398594e+07</td>\n",
              "      <td>1.538856e+07</td>\n",
              "      <td>2.625292e+07</td>\n",
              "      <td>9.005438e+07</td>\n",
              "      <td>1.210662e+16</td>\n",
              "      <td>5.054934e+27</td>\n",
              "      <td>7.466582e+07</td>\n",
              "      <td>3.733291e+07</td>\n",
              "      <td>128.001885</td>\n",
              "      <td>0.023436</td>\n",
              "      <td>0.070987</td>\n",
              "      <td>1</td>\n",
              "    </tr>\n",
              "    <tr>\n",
              "      <th>...</th>\n",
              "      <td>...</td>\n",
              "      <td>...</td>\n",
              "      <td>...</td>\n",
              "      <td>...</td>\n",
              "      <td>...</td>\n",
              "      <td>...</td>\n",
              "      <td>...</td>\n",
              "      <td>...</td>\n",
              "      <td>...</td>\n",
              "      <td>...</td>\n",
              "      <td>...</td>\n",
              "      <td>...</td>\n",
              "      <td>...</td>\n",
              "      <td>...</td>\n",
              "      <td>...</td>\n",
              "      <td>...</td>\n",
              "      <td>...</td>\n",
              "      <td>...</td>\n",
              "      <td>...</td>\n",
              "      <td>...</td>\n",
              "      <td>...</td>\n",
              "    </tr>\n",
              "    <tr>\n",
              "      <th>1995</th>\n",
              "      <td>MK033771.1</td>\n",
              "      <td>2.974035e+10</td>\n",
              "      <td>3.247982e+06</td>\n",
              "      <td>3.105287e+14</td>\n",
              "      <td>1.304681e+06</td>\n",
              "      <td>1.713161e-07</td>\n",
              "      <td>0.385448</td>\n",
              "      <td>2.571010e+12</td>\n",
              "      <td>2.571094e+12</td>\n",
              "      <td>1.740997e+06</td>\n",
              "      <td>1.915248e+06</td>\n",
              "      <td>3.247982e+06</td>\n",
              "      <td>1.112146e+07</td>\n",
              "      <td>3.105287e+14</td>\n",
              "      <td>6.610526e+24</td>\n",
              "      <td>9.206207e+06</td>\n",
              "      <td>4.603103e+06</td>\n",
              "      <td>86.448567</td>\n",
              "      <td>0.034699</td>\n",
              "      <td>0.071653</td>\n",
              "      <td>0</td>\n",
              "    </tr>\n",
              "    <tr>\n",
              "      <th>1996</th>\n",
              "      <td>MK658832.1</td>\n",
              "      <td>7.383089e+08</td>\n",
              "      <td>2.020925e+05</td>\n",
              "      <td>3.682454e+12</td>\n",
              "      <td>5.144689e+04</td>\n",
              "      <td>3.359028e-06</td>\n",
              "      <td>0.767230</td>\n",
              "      <td>4.373988e+10</td>\n",
              "      <td>4.374282e+10</td>\n",
              "      <td>1.055342e+05</td>\n",
              "      <td>1.218159e+05</td>\n",
              "      <td>2.020925e+05</td>\n",
              "      <td>6.953082e+05</td>\n",
              "      <td>3.682454e+12</td>\n",
              "      <td>1.913434e+21</td>\n",
              "      <td>5.734923e+05</td>\n",
              "      <td>2.867462e+05</td>\n",
              "      <td>59.243339</td>\n",
              "      <td>0.050625</td>\n",
              "      <td>0.069661</td>\n",
              "      <td>0</td>\n",
              "    </tr>\n",
              "    <tr>\n",
              "      <th>1997</th>\n",
              "      <td>KJ170486.1</td>\n",
              "      <td>1.180282e+09</td>\n",
              "      <td>3.466039e+05</td>\n",
              "      <td>4.769887e+12</td>\n",
              "      <td>8.589220e+04</td>\n",
              "      <td>2.086507e-06</td>\n",
              "      <td>0.520852</td>\n",
              "      <td>5.971864e+10</td>\n",
              "      <td>5.972268e+10</td>\n",
              "      <td>1.844212e+05</td>\n",
              "      <td>2.088759e+05</td>\n",
              "      <td>3.466039e+05</td>\n",
              "      <td>1.186185e+06</td>\n",
              "      <td>4.769887e+12</td>\n",
              "      <td>3.566799e+21</td>\n",
              "      <td>9.773095e+05</td>\n",
              "      <td>4.886547e+05</td>\n",
              "      <td>50.596918</td>\n",
              "      <td>0.059275</td>\n",
              "      <td>0.069724</td>\n",
              "      <td>0</td>\n",
              "    </tr>\n",
              "    <tr>\n",
              "      <th>1998</th>\n",
              "      <td>MN829875.1</td>\n",
              "      <td>1.221524e+10</td>\n",
              "      <td>2.212440e+06</td>\n",
              "      <td>7.284888e+13</td>\n",
              "      <td>9.165548e+05</td>\n",
              "      <td>2.150046e-07</td>\n",
              "      <td>0.290119</td>\n",
              "      <td>8.289242e+11</td>\n",
              "      <td>8.289768e+11</td>\n",
              "      <td>1.184899e+06</td>\n",
              "      <td>1.306747e+06</td>\n",
              "      <td>2.212440e+06</td>\n",
              "      <td>7.647498e+06</td>\n",
              "      <td>7.284888e+13</td>\n",
              "      <td>6.872025e+23</td>\n",
              "      <td>6.340751e+06</td>\n",
              "      <td>3.170375e+06</td>\n",
              "      <td>67.859831</td>\n",
              "      <td>0.044201</td>\n",
              "      <td>0.070792</td>\n",
              "      <td>0</td>\n",
              "    </tr>\n",
              "    <tr>\n",
              "      <th>1999</th>\n",
              "      <td>MN090207.1</td>\n",
              "      <td>2.316117e+10</td>\n",
              "      <td>3.184173e+06</td>\n",
              "      <td>1.559046e+14</td>\n",
              "      <td>1.377095e+06</td>\n",
              "      <td>1.294696e-07</td>\n",
              "      <td>0.202337</td>\n",
              "      <td>1.664446e+12</td>\n",
              "      <td>1.664539e+12</td>\n",
              "      <td>1.716578e+06</td>\n",
              "      <td>1.887469e+06</td>\n",
              "      <td>3.184173e+06</td>\n",
              "      <td>1.103272e+07</td>\n",
              "      <td>1.559046e+14</td>\n",
              "      <td>2.770690e+24</td>\n",
              "      <td>9.145254e+06</td>\n",
              "      <td>4.572627e+06</td>\n",
              "      <td>71.863647</td>\n",
              "      <td>0.041740</td>\n",
              "      <td>0.071339</td>\n",
              "      <td>0</td>\n",
              "    </tr>\n",
              "  </tbody>\n",
              "</table>\n",
              "<p>3314 rows × 21 columns</p>\n",
              "</div>"
            ],
            "text/plain": [
              "          nameseq       average        median  ...  skewness  kurtosis  label\n",
              "0     NC_045512.2  5.579451e+11  2.648017e+07  ...  0.023394  0.070657      1\n",
              "1      MT483553.1  5.543411e+11  2.615915e+07  ...  0.023428  0.070937      1\n",
              "2      MT483554.1  5.550479e+11  2.623601e+07  ...  0.023436  0.070986      1\n",
              "3      MT483555.1  5.514714e+11  2.599594e+07  ...  0.023453  0.070527      1\n",
              "4      MT483556.1  5.554361e+11  2.625292e+07  ...  0.023436  0.070987      1\n",
              "...           ...           ...           ...  ...       ...       ...    ...\n",
              "1995   MK033771.1  2.974035e+10  3.247982e+06  ...  0.034699  0.071653      0\n",
              "1996   MK658832.1  7.383089e+08  2.020925e+05  ...  0.050625  0.069661      0\n",
              "1997   KJ170486.1  1.180282e+09  3.466039e+05  ...  0.059275  0.069724      0\n",
              "1998   MN829875.1  1.221524e+10  2.212440e+06  ...  0.044201  0.070792      0\n",
              "1999   MN090207.1  2.316117e+10  3.184173e+06  ...  0.041740  0.071339      0\n",
              "\n",
              "[3314 rows x 21 columns]"
            ]
          },
          "metadata": {
            "tags": []
          },
          "execution_count": 23
        }
      ]
    },
    {
      "cell_type": "markdown",
      "metadata": {
        "id": "_5GgKuTjjGeR",
        "colab_type": "text"
      },
      "source": [
        "## **Dividindo em x e y**"
      ]
    },
    {
      "cell_type": "code",
      "metadata": {
        "id": "mWcO9LLrcA6O",
        "colab_type": "code",
        "colab": {
          "base_uri": "https://localhost:8080/",
          "height": 34
        },
        "outputId": "09cb20a0-ac11-4ce9-dbc9-6dd36db94366"
      },
      "source": [
        "X = np.array(df.iloc[:,1 :-1])\n",
        "y = np.array(df.iloc[:, -1])\n",
        "\n",
        "X\n",
        "y"
      ],
      "execution_count": 24,
      "outputs": [
        {
          "output_type": "execute_result",
          "data": {
            "text/plain": [
              "array([1, 1, 1, ..., 0, 0, 0])"
            ]
          },
          "metadata": {
            "tags": []
          },
          "execution_count": 24
        }
      ]
    },
    {
      "cell_type": "markdown",
      "metadata": {
        "id": "Aq5enXOqa6Cj",
        "colab_type": "text"
      },
      "source": [
        "## **Quantidade de amostras por classe**"
      ]
    },
    {
      "cell_type": "code",
      "metadata": {
        "id": "EQssEfCUbT0K",
        "colab_type": "code",
        "colab": {
          "base_uri": "https://localhost:8080/",
          "height": 34
        },
        "outputId": "593ef310-4134-41ea-8402-9895c0ab98e0"
      },
      "source": [
        "from collections import Counter\n",
        "\n",
        "print('Dataset shape %s' % Counter(y))"
      ],
      "execution_count": 25,
      "outputs": [
        {
          "output_type": "stream",
          "text": [
            "Dataset shape Counter({0: 2000, 1: 1314})\n"
          ],
          "name": "stdout"
        }
      ]
    },
    {
      "cell_type": "markdown",
      "metadata": {
        "id": "lieEjuJ4a9XZ",
        "colab_type": "text"
      },
      "source": [
        "## **Utilizando Holdout para dividir os dados em treino e teste**"
      ]
    },
    {
      "cell_type": "code",
      "metadata": {
        "id": "NzczH3N-beZY",
        "colab_type": "code",
        "colab": {}
      },
      "source": [
        "X_train, X_test, y_train, y_test = train_test_split(X, y, test_size=0.3, random_state=100, stratify=y)"
      ],
      "execution_count": 27,
      "outputs": []
    },
    {
      "cell_type": "markdown",
      "metadata": {
        "id": "AK5ivCyAdLpH",
        "colab_type": "text"
      },
      "source": [
        "## **Escalando os Dados**"
      ]
    },
    {
      "cell_type": "code",
      "metadata": {
        "id": "ELrEYbtMdQuc",
        "colab_type": "code",
        "colab": {}
      },
      "source": [
        "from sklearn.preprocessing import StandardScaler\n",
        "\n",
        "sc = StandardScaler()\n",
        "X_train = sc.fit_transform(X_train)\n",
        "X_test = sc.transform(X_test)"
      ],
      "execution_count": 28,
      "outputs": []
    },
    {
      "cell_type": "markdown",
      "metadata": {
        "id": "XqORCWS3hfZv",
        "colab_type": "text"
      },
      "source": [
        "## **Reduzindo a Dimensionalidade**"
      ]
    },
    {
      "cell_type": "code",
      "metadata": {
        "id": "pra5bg6Xhm2w",
        "colab_type": "code",
        "colab": {
          "base_uri": "https://localhost:8080/",
          "height": 34
        },
        "outputId": "5a50d5cf-8603-484f-cd41-6a320d8d6be0"
      },
      "source": [
        "# Código Aqui!\n",
        "from sklearn.decomposition import PCA\n",
        "\n",
        "pca = PCA(n_components=3) #numero de dimensoes/caracteristicas/atributos/colunas\n",
        "\n",
        "train_pca = pca.fit_transform(X_train)\n",
        "test_pca = pca.transform(X_test)\n",
        "\n",
        "pca.explained_variance_ratio_ #poder de explicacao da variancia dessas dimensoes, representam o dataset original\n",
        "sum(pca.explained_variance_ratio_)"
      ],
      "execution_count": 29,
      "outputs": [
        {
          "output_type": "execute_result",
          "data": {
            "text/plain": [
              "0.9669322126263253"
            ]
          },
          "metadata": {
            "tags": []
          },
          "execution_count": 29
        }
      ]
    },
    {
      "cell_type": "code",
      "metadata": {
        "id": "drdeiYqvCQNB",
        "colab_type": "code",
        "colab": {
          "base_uri": "https://localhost:8080/",
          "height": 136
        },
        "outputId": "0e6c3231-c5d3-4ddf-ce68-c256232da31c"
      },
      "source": [
        "train_pca"
      ],
      "execution_count": 30,
      "outputs": [
        {
          "output_type": "execute_result",
          "data": {
            "text/plain": [
              "array([[ 0.10283811, -1.40063589, -0.37409559],\n",
              "       [ 4.69021856,  0.22658761,  0.1854594 ],\n",
              "       [ 4.63039287,  0.22282367,  0.06748867],\n",
              "       ...,\n",
              "       [-4.28996706,  1.41273378, -0.79525398],\n",
              "       [-2.23342465, -1.72083153,  0.00561588],\n",
              "       [-4.32057357,  1.07142126,  1.62502962]])"
            ]
          },
          "metadata": {
            "tags": []
          },
          "execution_count": 30
        }
      ]
    },
    {
      "cell_type": "markdown",
      "metadata": {
        "id": "PcDJKCbpd81P",
        "colab_type": "text"
      },
      "source": [
        "## **Aplicando Técnicas para dados desbalanceados**"
      ]
    },
    {
      "cell_type": "code",
      "metadata": {
        "id": "PTNHKrLYd7R4",
        "colab_type": "code",
        "colab": {
          "base_uri": "https://localhost:8080/",
          "height": 51
        },
        "outputId": "557dd33f-baaf-4432-b403-be49cde938c5"
      },
      "source": [
        "# Código Aqui!\n",
        "from imblearn.under_sampling import RandomUnderSampler\n",
        "\n",
        "rs = RandomUnderSampler(random_state=42)\n",
        "X_train_res, y_train_res = rs.fit_resample(train_pca, y_train)\n",
        "print('dataset shape %s' % Counter(y_train))\n",
        "print('Resampled dataset shape %s' % Counter(y_train_res))"
      ],
      "execution_count": 31,
      "outputs": [
        {
          "output_type": "stream",
          "text": [
            "dataset shape Counter({0: 1400, 1: 919})\n",
            "Resampled dataset shape Counter({0: 919, 1: 919})\n"
          ],
          "name": "stdout"
        }
      ]
    },
    {
      "cell_type": "markdown",
      "metadata": {
        "id": "X1PdKd0bI8g8",
        "colab_type": "text"
      },
      "source": [
        "## **Função para plotar ROC curve - Está pronta - Apenas executar**"
      ]
    },
    {
      "cell_type": "code",
      "metadata": {
        "id": "argdOqrII8pb",
        "colab_type": "code",
        "colab": {}
      },
      "source": [
        "from sklearn import metrics\n",
        "from sklearn.metrics import roc_auc_score\n",
        "\n",
        "def save_results(result_table, classifier, test_labels, pred_proba, pos_label = 1):\n",
        "    fpr, tpr, thresholds = metrics.roc_curve(test_labels, pred_proba, pos_label)\n",
        "    auc = roc_auc_score(test_labels, pred_proba)\n",
        "    result_table = result_table.append({'classifier': classifier,\n",
        "                                          'fpr':fpr, \n",
        "                                          'tpr':tpr, \n",
        "                                          'auc':auc}, ignore_index=True)\n",
        "    return result_table\n",
        "\n",
        "\n",
        "def roc_curve(result_table):\n",
        "    result_table.set_index('classifier', inplace=True)\n",
        "    fig = plt.figure(figsize=(8,6))\n",
        "\n",
        "    for i in result_table.index:\n",
        "        plt.plot(result_table.loc[i]['fpr'], \n",
        "                result_table.loc[i]['tpr'], \n",
        "                label=\"{}, AUC={:.3f}\".format(i, result_table.loc[i]['auc']))\n",
        "        \n",
        "    plt.plot([0,1], [0,1], color='orange', linestyle='--')\n",
        "\n",
        "    plt.xticks(np.arange(0.0, 1.1, step=0.1))\n",
        "    plt.xlabel(\"False Positive Rate\", fontsize=15)\n",
        "\n",
        "    plt.yticks(np.arange(0.0, 1.1, step=0.1))\n",
        "    plt.ylabel(\"True Positive Rate\", fontsize=15)\n",
        "\n",
        "    plt.title('ROC Curve Analysis', fontweight='bold', fontsize=15)\n",
        "    plt.legend(prop={'size':12}, loc='lower right')\n",
        "\n",
        "    plt.show()\n",
        "    fig.savefig('multiple_roc_curve.pdf')\n",
        "    # files.download('multiple_roc_curve.pdf') "
      ],
      "execution_count": 32,
      "outputs": []
    },
    {
      "cell_type": "markdown",
      "metadata": {
        "id": "Ur73oG-pfB2N",
        "colab_type": "text"
      },
      "source": [
        "## **Crie um dicionário com pelo menos 5 classificadores -  Escolha pelo menos 2 classificadores ensemble**"
      ]
    },
    {
      "cell_type": "code",
      "metadata": {
        "id": "CI83oZDKexjG",
        "colab_type": "code",
        "colab": {}
      },
      "source": [
        "# Código Aqui!\n",
        "from sklearn.ensemble import VotingClassifier, StackingClassifier, AdaBoostClassifier, BaggingClassifier, RandomForestClassifier\n",
        "from sklearn.neighbors import KNeighborsClassifier\n",
        "from sklearn import tree\n",
        "from sklearn.naive_bayes import GaussianNB\n",
        "from sklearn import svm\n",
        "from sklearn.neural_network import MLPClassifier\n",
        "\n",
        "experiments_alg = {\n",
        "    \"KNN\" : KNeighborsClassifier(n_neighbors = 5, algorithm= 'kd_tree'),\n",
        "\n",
        "    # \"Classifier 2\" : Classifier() # DT\n",
        "    \"DecisionTreeClassifier\" : tree.DecisionTreeClassifier(),\n",
        "\n",
        "    # \"Classifier 3\" : Classifier() # MLP\n",
        "    \"MLP\" : MLPClassifier(random_state=1, max_iter=300),\n",
        "\n",
        "    # \"Classifier 4\" : Classifier() # Naive Bayes\n",
        "    \"GaussianNB\" : GaussianNB(),\n",
        "\n",
        "    #adicionar baggin, adaboost\n",
        "    \"BaggingClassifier\" : BaggingClassifier(base_estimator=None, n_estimators=10, random_state=0),\n",
        "\n",
        "    \"AdaBoostClassifier\" : AdaBoostClassifier(n_estimators=100, random_state=0)\n",
        "  \n",
        "}"
      ],
      "execution_count": 33,
      "outputs": []
    },
    {
      "cell_type": "markdown",
      "metadata": {
        "id": "5RQz3d1zJLKQ",
        "colab_type": "text"
      },
      "source": [
        "## **Avalie cada classificador no conjunto de teste - Print pelo menos quatro métricas e.g., accuracy, MCC, Kappa**"
      ]
    },
    {
      "cell_type": "code",
      "metadata": {
        "id": "1XiMGGcrJP9_",
        "colab_type": "code",
        "colab": {
          "base_uri": "https://localhost:8080/",
          "height": 119
        },
        "outputId": "3743942f-f133-481c-eff4-69cecebb51e6"
      },
      "source": [
        "from sklearn.metrics import balanced_accuracy_score\n",
        "from sklearn.metrics import accuracy_score\n",
        "\n",
        "result_table = pd.DataFrame(columns=['classifier', 'fpr','tpr','auc'])\n",
        "\n",
        "for classifier, model in experiments_alg.items():\n",
        "    # Chame o modelo\n",
        "    model = model\n",
        "\n",
        "    # Fit no train\n",
        "    model.fit(X_train_res, y_train_res)\n",
        "   \n",
        "    # Predict no test\n",
        "    preds = model.predict(test_pca)\n",
        "    \n",
        "    # Gere as probabilidade\n",
        "    #predict_proba(self, X)[source]¶\n",
        "    pred_proba = model.predict_proba(test_pca)[:,1]\n",
        "\n",
        "    # Calcule alguma métrica, e.g. ACC\n",
        "    acc = accuracy_score(y_test, preds)\n",
        "\n",
        "    print(\"Resultado do %s: %s\" % (classifier, acc))\n",
        "\n",
        "    # Gerando resultados para curva ROC\n",
        "    #result_table = save_results(result_table, classifier, y_test, pred_proba, pos_label = 1)\n",
        "    result_table = save_results(result_table, classifier, y_test, pred_proba)"
      ],
      "execution_count": 34,
      "outputs": [
        {
          "output_type": "stream",
          "text": [
            "Resultado do KNN: 0.9989949748743718\n",
            "Resultado do DecisionTreeClassifier: 0.9989949748743718\n",
            "Resultado do MLP: 0.9979899497487437\n",
            "Resultado do GaussianNB: 1.0\n",
            "Resultado do BaggingClassifier: 0.9989949748743718\n",
            "Resultado do AdaBoostClassifier: 0.9989949748743718\n"
          ],
          "name": "stdout"
        }
      ]
    },
    {
      "cell_type": "markdown",
      "metadata": {
        "id": "9S-vL2V7gdFe",
        "colab_type": "text"
      },
      "source": [
        "## **Plotando Curva ROC**"
      ]
    },
    {
      "cell_type": "code",
      "metadata": {
        "id": "pyodMCItga2n",
        "colab_type": "code",
        "colab": {
          "base_uri": "https://localhost:8080/",
          "height": 411
        },
        "outputId": "05e3633c-6656-4b5c-ed5f-fb54721f926e"
      },
      "source": [
        "roc_curve(result_table)"
      ],
      "execution_count": 35,
      "outputs": [
        {
          "output_type": "display_data",
          "data": {
            "image/png": "[encoded data removed]",
            "text/plain": [
              "<Figure size 576x432 with 1 Axes>"
            ]
          },
          "metadata": {
            "tags": [],
            "needs_background": "light"
          }
        }
      ]
    },
    {
      "cell_type": "markdown",
      "metadata": {
        "id": "_HDAzp8JJbb5",
        "colab_type": "text"
      },
      "source": [
        "## **Discuta os resultados**\n",
        "\n",
        "------\n",
        "Concluímos que este problema (classificar um vírus se é ou na COVID) é linearmente separável, pois todos os classificadores obtiveram quase 100% de acurácia."
      ]
    }
  ]
}